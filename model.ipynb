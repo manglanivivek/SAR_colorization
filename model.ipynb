{
 "cells": [
  {
   "cell_type": "code",
   "execution_count": 10,
   "metadata": {},
   "outputs": [],
   "source": [
    "import torch\n",
    "import torch.nn as nn\n",
    "import  torch.optim as optim\n",
    "import torchvision\n",
    "import torchvision.transforms as transforms\n",
    "from sklearn.model_selection import train_test_split\n",
    "from torch.utils.data import Dataset, DataLoader\n",
    "from torchvision import datasets, transforms\n",
    "import os"
   ]
  },
  {
   "cell_type": "code",
   "execution_count": 11,
   "metadata": {},
   "outputs": [],
   "source": [
    "train_dir=r\"E:\\\\HTM\\\\zephyr\\\\Images11\\\\train\"\n",
    "test_dir=r\"E:\\\\HTM\\\\zephyr\\\\Images11\\\\test\""
   ]
  },
  {
   "cell_type": "code",
   "execution_count": 12,
   "metadata": {},
   "outputs": [],
   "source": [
    "transform = transforms.Compose([\n",
    "    transforms.Resize((256, 256)),\n",
    "    transforms.ToTensor()\n",
    "])"
   ]
  },
  {
   "cell_type": "code",
   "execution_count": 13,
   "metadata": {},
   "outputs": [],
   "source": [
    "train_data=datasets.ImageFolder(train_dir,transform=transform)\n",
    "train_loader=torch.utils.data.DataLoader(train_data,batch_size=64,shuffle=True)\n",
    "\n",
    "test_data=datasets.ImageFolder(test_dir,transform=transform)\n",
    "test_loader=torch.utils.data.DataLoader(test_data,batch_size=64,shuffle=True)"
   ]
  },
  {
   "cell_type": "code",
   "execution_count": 14,
   "metadata": {},
   "outputs": [],
   "source": [
    "device=torch.device(\"cuda\" if torch.cuda.is_available() else \"cpu\")"
   ]
  },
  {
   "cell_type": "code",
   "execution_count": 15,
   "metadata": {},
   "outputs": [
    {
     "data": {
      "text/plain": [
       "device(type='cuda')"
      ]
     },
     "execution_count": 15,
     "metadata": {},
     "output_type": "execute_result"
    }
   ],
   "source": [
    "device"
   ]
  },
  {
   "cell_type": "code",
   "execution_count": 16,
   "metadata": {},
   "outputs": [],
   "source": [
    "class Colornet(nn.Module):\n",
    "    def __init__(self):\n",
    "        super(Colornet,self).__init__()\n",
    "        self.conv1=nn.Conv2d(1,64,kernel_size=5,stride=1,padding=4,dilation=2)\n",
    "        self.conv2=nn.Conv2d(64,64,kernel_size=5,stride=1,padding=4,dilation=2)\n",
    "        self.conv3=nn.Conv2d(64,128,kernel_size=5,stride=1,padding=4,dilation=2)\n",
    "        self.conv4=nn.Conv2d(128,3,kernel_size=5,stride=1,padding=4,dilation=2)\n",
    "\n",
    "    def forward(self,x):\n",
    "        x=nn.functional.relu(self.conv1(x))\n",
    "        x=nn.functional.relu(self.conv2(x))\n",
    "        x=nn.functional.relu(self.conv3(x))\n",
    "        x=torch.sigmoid(self.conv4(x))\n",
    "        return x"
   ]
  },
  {
   "cell_type": "code",
   "execution_count": 17,
   "metadata": {},
   "outputs": [],
   "source": [
    "model = Colornet().to(device)\n",
    "\n",
    "# Loss and optimizer\n",
    "criterion = nn.MSELoss()\n",
    "optimizer = optim.Adam(model.parameters(), lr=0.001)\n",
    "\n",
    "# Convert RGB image to grayscale\n",
    "def rgb_to_gray(img):\n",
    "    return img.mean(dim=1, keepdim=True)\n"
   ]
  },
  {
   "cell_type": "code",
   "execution_count": 18,
   "metadata": {},
   "outputs": [
    {
     "name": "stdout",
     "output_type": "stream",
     "text": [
      "Epoch [1/1], Step [1/225], Loss: 0.0655\n",
      "Epoch [1/1], Step [101/225], Loss: 0.0062\n",
      "Epoch [1/1], Step [201/225], Loss: 0.0037\n"
     ]
    }
   ],
   "source": [
    "# Training loop\n",
    "EPOCHS = 1\n",
    "for epoch in range(EPOCHS):\n",
    "    for i, (images, _) in enumerate(train_loader):\n",
    "        grayscale_images = rgb_to_gray(images).to(device)\n",
    "        images = images.to(device)\n",
    "\n",
    "        # Forward pass\n",
    "        outputs = model(grayscale_images)\n",
    "        loss = criterion(outputs, images)\n",
    "\n",
    "        # Backward pass and optimize\n",
    "        optimizer.zero_grad()\n",
    "        loss.backward()\n",
    "        optimizer.step()\n",
    "\n",
    "        # Print statistics\n",
    "        if i % 100 == 0:\n",
    "            print(f\"Epoch [{epoch+1}/{EPOCHS}], Step [{i+1}/{len(train_loader)}], Loss: {loss.item():.4f}\")\n",
    "\n",
    "print(\"Finished Training\")\n"
   ]
  },
  {
   "cell_type": "code",
   "execution_count": 3,
   "metadata": {},
   "outputs": [
    {
     "ename": "NameError",
     "evalue": "name 'transform' is not defined",
     "output_type": "error",
     "traceback": [
      "\u001b[1;31m---------------------------------------------------------------------------\u001b[0m",
      "\u001b[1;31mNameError\u001b[0m                                 Traceback (most recent call last)",
      "Cell \u001b[1;32mIn[3], line 5\u001b[0m\n\u001b[0;32m      3\u001b[0m gray_img \u001b[38;5;241m=\u001b[39m img\u001b[38;5;241m.\u001b[39mconvert(\u001b[38;5;124m\"\u001b[39m\u001b[38;5;124mL\u001b[39m\u001b[38;5;124m\"\u001b[39m)\n\u001b[0;32m      4\u001b[0m gray_img\u001b[38;5;241m.\u001b[39msave(\u001b[38;5;124m\"\u001b[39m\u001b[38;5;124m./bwsar23.jpeg\u001b[39m\u001b[38;5;124m\"\u001b[39m)\n\u001b[1;32m----> 5\u001b[0m img_tensor \u001b[38;5;241m=\u001b[39m \u001b[43mtransform\u001b[49m(gray_img)\u001b[38;5;241m.\u001b[39munsqueeze(\u001b[38;5;241m0\u001b[39m)\n\u001b[0;32m      6\u001b[0m model\u001b[38;5;241m.\u001b[39meval()\n\u001b[0;32m      7\u001b[0m img_tensor \u001b[38;5;241m=\u001b[39m img_tensor\u001b[38;5;241m.\u001b[39mto(device)\n",
      "\u001b[1;31mNameError\u001b[0m: name 'transform' is not defined"
     ]
    }
   ],
   "source": [
    "from PIL import Image\n",
    "img = Image.open(\"E:\\\\HTM\\\\bwAgri.jpg\")\n",
    "gray_img = img.convert(\"L\")\n",
    "gray_img.save(\"./bwsar23.jpeg\")\n",
    "img_tensor = transform(gray_img).unsqueeze(0)\n",
    "model.eval()\n",
    "img_tensor = img_tensor.to(device)\n",
    "with torch.no_grad():\n",
    "    colorized_tensor = model(img_tensor)"
   ]
  },
  {
   "cell_type": "code",
   "execution_count": 32,
   "metadata": {},
   "outputs": [],
   "source": [
    "colorized_img = transforms.ToPILImage()(colorized_tensor.squeeze(0).cpu())\n",
    "colorized_img.save(\"./colorizedsar23LL.jpeg\")"
   ]
  },
  {
   "cell_type": "code",
   "execution_count": 13,
   "metadata": {},
   "outputs": [],
   "source": [
    "saving_path=\"E:\\\\HTM\\\\model.cpkt\"\n",
    "torch.save(model,saving_path)"
   ]
  }
 ],
 "metadata": {
  "kernelspec": {
   "display_name": "Python 3",
   "language": "python",
   "name": "python3"
  },
  "language_info": {
   "codemirror_mode": {
    "name": "ipython",
    "version": 3
   },
   "file_extension": ".py",
   "mimetype": "text/x-python",
   "name": "python",
   "nbconvert_exporter": "python",
   "pygments_lexer": "ipython3",
   "version": "3.10.10"
  }
 },
 "nbformat": 4,
 "nbformat_minor": 2
}
